{
 "cells": [
  {
   "cell_type": "markdown",
   "id": "71f70882",
   "metadata": {},
   "source": [
    "## Frame creation from video"
   ]
  },
  {
   "cell_type": "code",
   "execution_count": 4,
   "id": "4d5a0cd5",
   "metadata": {},
   "outputs": [],
   "source": [
    "import cv2\n",
    "import os\n",
    "import shutil\n",
    "import random\n",
    "import zipfile"
   ]
  },
  {
   "cell_type": "code",
   "execution_count": 2,
   "id": "651e9593",
   "metadata": {},
   "outputs": [
    {
     "name": "stdout",
     "output_type": "stream",
     "text": [
      "✅ Done extracting frames.\n"
     ]
    }
   ],
   "source": [
    "# === CONFIGURATION ===\n",
    "video_path = 'sample.mp4'     # Replace with your video file\n",
    "output_dir = 'frames'             # Folder to save frames\n",
    "frame_interval = 1              # Save every 1 frames\n",
    "\n",
    "# === CREATE OUTPUT FOLDER ===\n",
    "os.makedirs(output_dir, exist_ok=True)\n",
    "\n",
    "# === OPEN VIDEO ===\n",
    "cap = cv2.VideoCapture(video_path)\n",
    "\n",
    "frame_id = 0      # Current frame in video\n",
    "saved_id = 0      # Frame image counter for output\n",
    "\n",
    "while True:\n",
    "    ret, frame = cap.read()\n",
    "    if not ret:\n",
    "        break\n",
    "\n",
    "    if frame_id % frame_interval == 0:\n",
    "        output_path = os.path.join(output_dir, f\"frame_{saved_id}.jpg\")\n",
    "        cv2.imwrite(output_path, frame)\n",
    "        saved_id += 1\n",
    "\n",
    "    frame_id += 1\n",
    "\n",
    "cap.release()\n",
    "print(\"✅ Done extracting frames.\")"
   ]
  },
  {
   "cell_type": "markdown",
   "id": "509af4b1",
   "metadata": {},
   "source": [
    "## Unzip the labels file created by labelImg and create empty labels for image without name tag"
   ]
  },
  {
   "cell_type": "code",
   "execution_count": 6,
   "id": "daa6b6d6",
   "metadata": {},
   "outputs": [],
   "source": [
    "zip_path = \"labels.zip\"  # Replace with the actual filename\n",
    "with zipfile.ZipFile(zip_path, 'r') as zip_ref:\n",
    "    zip_ref.extractall(\"extracted_folder\")  # or any desired folder name\n"
   ]
  },
  {
   "cell_type": "code",
   "execution_count": 7,
   "id": "c3fab88d",
   "metadata": {},
   "outputs": [],
   "source": [
    "images_dir = 'frames'\n",
    "labels_dir = 'extracted_folder/labels'\n",
    "\n",
    "os.makedirs(labels_dir, exist_ok=True)\n",
    "\n",
    "for filename in os.listdir(images_dir):\n",
    "    if filename.endswith('.jpg') or filename.endswith('.png'):\n",
    "        label_name = os.path.splitext(filename)[0] + '.txt'\n",
    "        label_path = os.path.join(labels_dir, label_name)\n",
    "        if not os.path.exists(label_path):\n",
    "            open(label_path, 'w').close()\n"
   ]
  },
  {
   "cell_type": "markdown",
   "id": "2af4fb45",
   "metadata": {},
   "source": [
    "## Splitting dataset to train, validate & test data "
   ]
  },
  {
   "cell_type": "code",
   "execution_count": 9,
   "id": "31d3d820",
   "metadata": {},
   "outputs": [],
   "source": [
    "images_data = 'frames'\n",
    "labels_data = 'extracted_folder/labels'\n",
    "\n",
    "base_dir = 'dataset'\n",
    "splits = ['train','val','test']\n",
    "split_ratio = [0.7, 0.2, 0.1]\n",
    "\n",
    "for split in splits:\n",
    "    os.makedirs(os.path.join(base_dir, 'images', split), exist_ok=True)\n",
    "    os.makedirs(os.path.join(base_dir, 'labels', split), exist_ok=True)\n",
    "    \n",
    "image_files = [f for f in os.listdir(images_data) if f.endswith(('.jpg', '.png'))]\n",
    "random.shuffle(image_files)\n",
    "\n",
    "total = len(image_files)\n",
    "train_end = int(total * split_ratio[0])\n",
    "val_end = train_end + int(total * split_ratio[1])\n",
    "\n",
    "split_files = {\n",
    "    'train': image_files[:train_end],\n",
    "    'val': image_files[train_end:val_end],\n",
    "    'test': image_files[val_end:]\n",
    "}"
   ]
  },
  {
   "cell_type": "code",
   "execution_count": 10,
   "id": "50872e81",
   "metadata": {},
   "outputs": [],
   "source": [
    "def copy_split(split_name, files):\n",
    "    for img_file in files:\n",
    "        # Copy image\n",
    "        src_img = os.path.join(images_data, img_file)\n",
    "        dst_img = os.path.join(base_dir, 'images', split_name, img_file)\n",
    "        shutil.copy(src_img, dst_img)\n",
    "\n",
    "        # Copy corresponding label\n",
    "        label_file = os.path.splitext(img_file)[0] + '.txt'\n",
    "        src_label = os.path.join(labels_data, label_file)\n",
    "        dst_label = os.path.join(base_dir, 'labels', split_name, label_file)\n",
    "\n",
    "        if os.path.exists(src_label):\n",
    "            shutil.copy(src_label, dst_label)\n",
    "        else:\n",
    "            open(dst_label, 'w').close()  # create empty label if missing"
   ]
  },
  {
   "cell_type": "code",
   "execution_count": 11,
   "id": "d3f180b9",
   "metadata": {},
   "outputs": [
    {
     "name": "stdout",
     "output_type": "stream",
     "text": [
      "Train: 938 files\n",
      "Val: 268 files\n",
      "Test: 135 files\n"
     ]
    }
   ],
   "source": [
    "for split in splits:\n",
    "    copy_split(split, split_files[split])\n",
    "    print(f\"{split.capitalize()}: {len(split_files[split])} files\")"
   ]
  },
  {
   "cell_type": "code",
   "execution_count": null,
   "id": "1e54f96d",
   "metadata": {},
   "outputs": [],
   "source": []
  }
 ],
 "metadata": {
  "kernelspec": {
   "display_name": "Python 3 (ipykernel)",
   "language": "python",
   "name": "python3"
  },
  "language_info": {
   "codemirror_mode": {
    "name": "ipython",
    "version": 3
   },
   "file_extension": ".py",
   "mimetype": "text/x-python",
   "name": "python",
   "nbconvert_exporter": "python",
   "pygments_lexer": "ipython3",
   "version": "3.9.13"
  }
 },
 "nbformat": 4,
 "nbformat_minor": 5
}
